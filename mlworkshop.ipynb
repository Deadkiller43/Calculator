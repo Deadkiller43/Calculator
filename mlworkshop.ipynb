{
  "nbformat": 4,
  "nbformat_minor": 0,
  "metadata": {
    "colab": {
      "provenance": [],
      "authorship_tag": "ABX9TyP9K19S20MjTol7srvovrq/",
      "include_colab_link": true
    },
    "kernelspec": {
      "name": "python3",
      "display_name": "Python 3"
    },
    "language_info": {
      "name": "python"
    }
  },
  "cells": [
    {
      "cell_type": "markdown",
      "metadata": {
        "id": "view-in-github",
        "colab_type": "text"
      },
      "source": [
        "<a href=\"https://colab.research.google.com/github/Deadkiller43/Calculator/blob/main/mlworkshop.ipynb\" target=\"_parent\"><img src=\"https://colab.research.google.com/assets/colab-badge.svg\" alt=\"Open In Colab\"/></a>"
      ]
    },
    {
      "cell_type": "code",
      "execution_count": 2,
      "metadata": {
        "id": "CXS8izO24zpe"
      },
      "outputs": [],
      "source": [
        "# prompt: prime number code\n",
        "\n",
        "def is_prime(num):\n",
        "  \"\"\"\n",
        "  Checks if a number is prime.\n",
        "\n",
        "  Args:\n",
        "    num: The number to check.\n",
        "\n",
        "  Returns:\n",
        "    True if the number is prime, False otherwise.\n",
        "  \"\"\"\n",
        "  if num <= 1:\n",
        "    return False\n",
        "  if num <= 3:\n",
        "    return True\n",
        "  if num % 2 == 0 or num % 3 == 0:\n",
        "    return False\n",
        "  i = 5\n",
        "  while i * i <= num:\n",
        "    if num % i == 0 or num % (i + 2) == 0:\n",
        "      return False\n",
        "    i += 6\n",
        "  return True\n"
      ]
    },
    {
      "cell_type": "code",
      "source": [
        "# prompt: write simple program\n",
        "\n",
        "def print_primes_up_to(limit):\n",
        "    \"\"\"Prints all prime numbers up to a given limit.\"\"\"\n",
        "    for num in range(2, limit + 1):\n",
        "        if is_prime(num):\n",
        "            print(num)\n",
        "\n",
        "# Example usage\n",
        "print_primes_up_to(50)\n"
      ],
      "metadata": {
        "colab": {
          "base_uri": "https://localhost:8080/"
        },
        "id": "h0T-NeiI5gKk",
        "outputId": "08f6d1b4-b28c-4e5b-db25-df44bde04f02"
      },
      "execution_count": 3,
      "outputs": [
        {
          "output_type": "stream",
          "name": "stdout",
          "text": [
            "2\n",
            "3\n",
            "5\n",
            "7\n",
            "11\n",
            "13\n",
            "17\n",
            "19\n",
            "23\n",
            "29\n",
            "31\n",
            "37\n",
            "41\n",
            "43\n",
            "47\n"
          ]
        }
      ]
    },
    {
      "cell_type": "code",
      "source": [],
      "metadata": {
        "id": "jb_lCLx654J0"
      },
      "execution_count": null,
      "outputs": []
    }
  ]
}